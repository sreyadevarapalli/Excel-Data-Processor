{
 "cells": [
  {
   "cell_type": "code",
   "execution_count": 1,
   "id": "2c2eb247",
   "metadata": {},
   "outputs": [],
   "source": [
    "import pandas as pd\n",
    "\n",
    "df = pd.read_csv(\"healthcare_dataset.csv\")\n",
    "df.to_excel(\"healthcare_dataset.xlsx\", index=False)\n"
   ]
  },
  {
   "cell_type": "code",
   "execution_count": 2,
   "id": "0106fd0c",
   "metadata": {},
   "outputs": [
    {
     "name": "stdout",
     "output_type": "stream",
     "text": [
      "✅ Data cleaned and summaries exported successfully!\n"
     ]
    }
   ],
   "source": [
    "\n",
    "# Load Excel file\n",
    "df = pd.read_excel(\"healthcare_dataset.xlsx\")\n",
    "\n",
    "# -------------------- DATA CLEANING --------------------\n",
    "# Remove duplicate rows\n",
    "df = df.drop_duplicates()\n",
    "\n",
    "# Handle missing values\n",
    "df = df.fillna({\n",
    "    \"Column1\": 0,          # replace NaN with 0\n",
    "    \"Column2\": \"Unknown\",  # replace NaN with \"Unknown\"\n",
    "})\n",
    "\n",
    "# Strip extra spaces from string columns\n",
    "df = df.applymap(lambda x: x.strip() if isinstance(x, str) else x)\n",
    "\n",
    "# Convert date columns (example: \"Date\" column)\n",
    "if \"Date\" in df.columns:\n",
    "    df[\"Date\"] = pd.to_datetime(df[\"Date\"], errors=\"coerce\")\n",
    "\n",
    "# -------------------- SUMMARY STATISTICS --------------------\n",
    "summary = {\n",
    "    \"shape\": df.shape,  # (rows, columns)\n",
    "    \"columns\": df.columns.tolist(),\n",
    "    \"null_counts\": df.isnull().sum().to_dict(),\n",
    "    \"numeric_summary\": df.describe().to_dict(),\n",
    "    \"categorical_summary\": {col: df[col].value_counts().to_dict()\n",
    "                            for col in df.select_dtypes(include=\"object\").columns}\n",
    "}\n",
    "\n",
    "# -------------------- EXPORT CLEANED DATA --------------------\n",
    "df.to_excel(\"cleaned_data.xlsx\", index=False)\n",
    "\n",
    "# Save summary as a separate Excel sheet\n",
    "with pd.ExcelWriter(\"data_summary.xlsx\") as writer:\n",
    "    pd.DataFrame.from_dict(summary[\"null_counts\"], orient=\"index\",\n",
    "                           columns=[\"Missing Values\"]).to_excel(writer, sheet_name=\"Missing Values\")\n",
    "    df.describe().to_excel(writer, sheet_name=\"Numeric Summary\")\n",
    "    for col, counts in summary[\"categorical_summary\"].items():\n",
    "        pd.DataFrame.from_dict(counts, orient=\"index\", columns=[col]).to_excel(writer, sheet_name=f\"{col}_Summary\")\n",
    "\n",
    "print(\"✅ Data cleaned and summaries exported successfully!\")\n"
   ]
  },
  {
   "cell_type": "code",
   "execution_count": 3,
   "id": "79f60709",
   "metadata": {},
   "outputs": [
    {
     "name": "stdout",
     "output_type": "stream",
     "text": [
      "Files saved in: C:\\Users\\HP\n"
     ]
    }
   ],
   "source": [
    "import os\n",
    "print(f\"Files saved in: {os.getcwd()}\")\n"
   ]
  },
  {
   "cell_type": "code",
   "execution_count": 6,
   "id": "55831baa",
   "metadata": {},
   "outputs": [
    {
     "name": "stdout",
     "output_type": "stream",
     "text": [
      "✅ Files saved in: C:\\Users\\HP\\OneDrive\\Desktop\\Excel_dataprocessor\n"
     ]
    }
   ],
   "source": [
    "import os\n",
    "# Example input file\n",
    "file_path = r\"C:\\Users\\HP\\OneDrive\\Desktop\\healthcare_dataset.xlsx\"\n",
    "\n",
    "# Extract the file name without extension\n",
    "base_name = os.path.splitext(os.path.basename(file_path))[0]\n",
    "\n",
    "\n",
    "# Example: save in a folder named \"output\"\n",
    "output_folder = r\"C:\\Users\\HP\\OneDrive\\Desktop\\Excel_dataprocessor\"\n",
    "\n",
    "\n",
    "# Create folder if it doesn't exist\n",
    "if not os.path.exists(output_folder):\n",
    "    os.makedirs(output_folder)\n",
    "\n",
    "# File paths\n",
    "cleaned_file = os.path.join(output_folder, f\"{base_name}_cleaned.xlsx\")\n",
    "summary_file = os.path.join(output_folder, f\"{base_name}_summary.xlsx\")\n",
    "\n",
    "# Save files\n",
    "df.to_excel(cleaned_file, index=False)\n",
    "\n",
    "with pd.ExcelWriter(summary_file) as writer:\n",
    "    pd.DataFrame.from_dict(summary[\"null_counts\"], orient=\"index\",\n",
    "                           columns=[\"Missing Values\"]).to_excel(writer, sheet_name=\"Missing Values\")\n",
    "    df.describe().to_excel(writer, sheet_name=\"Numeric Summary\")\n",
    "    for col, counts in summary[\"categorical_summary\"].items():\n",
    "        pd.DataFrame.from_dict(counts, orient=\"index\", columns=[col]).to_excel(writer, sheet_name=f\"{col}_Summary\")\n",
    "\n",
    "print(f\"✅ Files saved in: {os.path.abspath(output_folder)}\")\n"
   ]
  },
  {
   "cell_type": "code",
   "execution_count": null,
   "id": "45bee974",
   "metadata": {},
   "outputs": [],
   "source": []
  }
 ],
 "metadata": {
  "kernelspec": {
   "display_name": "Python 3 (ipykernel)",
   "language": "python",
   "name": "python3"
  },
  "language_info": {
   "codemirror_mode": {
    "name": "ipython",
    "version": 3
   },
   "file_extension": ".py",
   "mimetype": "text/x-python",
   "name": "python",
   "nbconvert_exporter": "python",
   "pygments_lexer": "ipython3",
   "version": "3.9.7"
  }
 },
 "nbformat": 4,
 "nbformat_minor": 5
}
